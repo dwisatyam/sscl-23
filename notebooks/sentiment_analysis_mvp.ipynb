{
  "nbformat": 4,
  "nbformat_minor": 0,
  "metadata": {
    "colab": {
      "provenance": [],
      "authorship_tag": "ABX9TyPwCLhexgImwVfkvXwkJR+u",
      "include_colab_link": true
    },
    "kernelspec": {
      "name": "python3",
      "display_name": "Python 3"
    },
    "language_info": {
      "name": "python"
    }
  },
  "cells": [
    {
      "cell_type": "markdown",
      "metadata": {
        "id": "view-in-github",
        "colab_type": "text"
      },
      "source": [
        "<a href=\"https://colab.research.google.com/github/dwisatyam/sscl-23/blob/main/notebooks/sentiment_analysis_mvp.ipynb\" target=\"_parent\"><img src=\"https://colab.research.google.com/assets/colab-badge.svg\" alt=\"Open In Colab\"/></a>"
      ]
    },
    {
      "cell_type": "markdown",
      "source": [
        "**Stop words**: Words that are to be excluded from the analysis"
      ],
      "metadata": {
        "id": "7Bj9Xph26Erz"
      }
    },
    {
      "cell_type": "code",
      "source": [
        "stop_words = [\"the\", \"is\", \"are\", \"and\", \"of\"]"
      ],
      "metadata": {
        "id": "u7hRWytU-zjY"
      },
      "execution_count": 1,
      "outputs": []
    },
    {
      "cell_type": "markdown",
      "source": [
        "**Polar words**- Positive and Negative words to be for the analysis"
      ],
      "metadata": {
        "id": "LRBVviqY6bbK"
      }
    },
    {
      "cell_type": "code",
      "source": [
        "pos_words = [\"good\", \"happy\"]\n",
        "neg_words = [\"bad\", \"sad\"]"
      ],
      "metadata": {
        "id": "7CistOjH6Cnh"
      },
      "execution_count": 2,
      "outputs": []
    },
    {
      "cell_type": "markdown",
      "source": [
        "**SynSet**- Different word forms including from different sense relations and derivation"
      ],
      "metadata": {
        "id": "xlF5j7f56tGd"
      }
    },
    {
      "cell_type": "code",
      "source": [
        "syn_dict = {\n",
        "    \"good\": [\"excellent\", \"great\"],\n",
        "    \"happy\": [\"joyful\", \"content\"],\n",
        "    \"bad\": [\"terrible\", \"awful\"],\n",
        "    \"sad\": [\"unhappy\", \"depressed\"]\n",
        "}"
      ],
      "metadata": {
        "id": "RTk4EbTv6U0L"
      },
      "execution_count": 3,
      "outputs": []
    },
    {
      "cell_type": "markdown",
      "source": [
        "Get user input and search through it for lexical match"
      ],
      "metadata": {
        "id": "azdT79Fm7EfR"
      }
    },
    {
      "cell_type": "code",
      "source": [
        "def get_user_input():\n",
        "    \"\"\"Take a string input from the user.\"\"\"\n",
        "    user_input = input(\"Enter your sentence: \")\n",
        "    return user_input\n",
        "\n",
        "def search_words(user_input, pos_words, neg_words, syn_dict, stop_words):\n",
        "    \"\"\"exclude stop_words from counting.\n",
        "       Search each word from user input in pos_words and neg_words lists,\n",
        "       check synonyms in syn_dict if a word is not found.\"\"\"\n",
        "\n",
        "    user_words = user_input.split()\n",
        "    pos_count = 0\n",
        "    neg_count = 0\n",
        "\n",
        "    for word in user_words:\n",
        "        # Skip counting stop words\n",
        "        if word in stop_words:\n",
        "            continue\n",
        "        # Count positive words\n",
        "        if word in pos_words:\n",
        "            pos_count += 1\n",
        "        # Count negative words\n",
        "        elif word in neg_words:\n",
        "            neg_count += 1\n",
        "        else:\n",
        "            # Check synset if the word is not found in pos_words or neg_words\n",
        "            for key, synonyms in syn_dict.items():\n",
        "                if word in synonyms:\n",
        "                    if key in pos_words:\n",
        "                        pos_count += 1\n",
        "                    elif key in neg_words:\n",
        "                        neg_count += 1\n",
        "                    break\n",
        "\n",
        "    return pos_count, neg_count"
      ],
      "metadata": {
        "id": "z_7IsOjG6VAA"
      },
      "execution_count": 4,
      "outputs": []
    },
    {
      "cell_type": "markdown",
      "source": [
        "Aggregate and print insights"
      ],
      "metadata": {
        "id": "SY5QuLMg7dGA"
      }
    },
    {
      "cell_type": "code",
      "source": [
        "def print_word_counts(pos_count, neg_count):\n",
        "    \"\"\"Print the counts of positive and negative words.\"\"\"\n",
        "    print(\"Positive words:\", pos_count, \"; Negative words:\", neg_count)\n",
        "\n",
        "def print_sentiment_result(pos_count, neg_count):\n",
        "    \"\"\"Print the sentiment analysis result based on the polar word counts.\"\"\"\n",
        "    if pos_count > neg_count:\n",
        "        print(\"The user input is Positive.\")\n",
        "    elif neg_count > pos_count:\n",
        "        print(\"The user input is Negative.\")\n",
        "    else:\n",
        "        print(\"The user input is a mix of positive and negative.\")"
      ],
      "metadata": {
        "id": "cHai2uE16VT_"
      },
      "execution_count": 5,
      "outputs": []
    },
    {
      "cell_type": "markdown",
      "source": [
        "Pipeline to take user input, process, aggregate and print insights"
      ],
      "metadata": {
        "id": "yHLn7xrA7aD9"
      }
    },
    {
      "cell_type": "code",
      "source": [
        "user_input = get_user_input()\n",
        "pos_count, neg_count = search_words(user_input, pos_words, neg_words, syn_dict, stop_words)\n",
        "print_word_counts(pos_count, neg_count)\n",
        "print_sentiment_result(pos_count, neg_count)"
      ],
      "metadata": {
        "colab": {
          "base_uri": "https://localhost:8080/"
        },
        "id": "8yZyaD5q7bV2",
        "outputId": "8f0d2cdc-a033-4ac9-b1ca-b2f38105c6fd"
      },
      "execution_count": 8,
      "outputs": [
        {
          "output_type": "stream",
          "name": "stdout",
          "text": [
            "Enter your sentence: I feel very happy about rain in Mysore but its also very bad\n",
            "Positive words: 1 ; Negative words: 1\n",
            "The user input is a mix of positive and negative.\n"
          ]
        }
      ]
    }
  ]
}